{
  "cells": [
    {
      "cell_type": "markdown",
      "metadata": {
        "id": "view-in-github",
        "colab_type": "text"
      },
      "source": [
        "<a href=\"https://colab.research.google.com/github/Afreen-Sayyad/Sayyad-Afreen/blob/main/content_extract.ipynb\" target=\"_parent\"><img src=\"https://colab.research.google.com/assets/colab-badge.svg\" alt=\"Open In Colab\"/></a>"
      ]
    },
    {
      "cell_type": "code",
      "execution_count": null,
      "metadata": {
        "id": "39NOHdojBPSy"
      },
      "outputs": [],
      "source": [
        "!pip install -q transformers"
      ]
    },
    {
      "cell_type": "code",
      "execution_count": null,
      "metadata": {
        "id": "Gj051XioBhD4"
      },
      "outputs": [],
      "source": [
        "!pip install -q youtube_transcript_api"
      ]
    },
    {
      "cell_type": "code",
      "execution_count": null,
      "metadata": {
        "id": "DFvPaUUwBpte"
      },
      "outputs": [],
      "source": [
        "from transformers import pipeline\n",
        "from youtube_transcript_api import YouTubeTranscriptApi"
      ]
    },
    {
      "cell_type": "code",
      "execution_count": null,
      "metadata": {
        "id": "jlbHYEDmCRqH"
      },
      "outputs": [],
      "source": [
        "youtube_video=\"https://www.youtube.com/watch?v=JlQB0yZw2as\""
      ]
    },
    {
      "cell_type": "code",
      "execution_count": null,
      "metadata": {
        "id": "hMuSvdikC3pT",
        "colab": {
          "base_uri": "https://localhost:8080/",
          "height": 141
        },
        "outputId": "c600be8a-85ff-49c9-97db-cbd3684f9e17"
      },
      "outputs": [
        {
          "output_type": "error",
          "ename": "NameError",
          "evalue": "name 'youtube_video' is not defined",
          "traceback": [
            "\u001b[0;31m---------------------------------------------------------------------------\u001b[0m",
            "\u001b[0;31mNameError\u001b[0m                                 Traceback (most recent call last)",
            "\u001b[0;32m<ipython-input-2-09c1e1f9fc76>\u001b[0m in \u001b[0;36m<cell line: 1>\u001b[0;34m()\u001b[0m\n\u001b[0;32m----> 1\u001b[0;31m \u001b[0mvideo_id\u001b[0m\u001b[0;34m=\u001b[0m\u001b[0myoutube_video\u001b[0m\u001b[0;34m.\u001b[0m\u001b[0msplit\u001b[0m\u001b[0;34m(\u001b[0m\u001b[0;34m\"=\"\u001b[0m\u001b[0;34m)\u001b[0m\u001b[0;34m[\u001b[0m\u001b[0;36m1\u001b[0m\u001b[0;34m]\u001b[0m\u001b[0;34m\u001b[0m\u001b[0;34m\u001b[0m\u001b[0m\n\u001b[0m",
            "\u001b[0;31mNameError\u001b[0m: name 'youtube_video' is not defined"
          ]
        }
      ],
      "source": [
        "video_id=youtube_video.split(\"=\")[1]"
      ]
    },
    {
      "cell_type": "code",
      "execution_count": null,
      "metadata": {
        "colab": {
          "base_uri": "https://localhost:8080/",
          "height": 35
        },
        "id": "piBj9ytpDBtn",
        "outputId": "20e515b8-56b9-4f4a-c21f-118c1322b636"
      },
      "outputs": [
        {
          "output_type": "execute_result",
          "data": {
            "text/plain": [
              "'JlQB0yZw2as'"
            ],
            "application/vnd.google.colaboratory.intrinsic+json": {
              "type": "string"
            }
          },
          "metadata": {},
          "execution_count": 90
        }
      ],
      "source": [
        "video_id"
      ]
    },
    {
      "cell_type": "code",
      "execution_count": null,
      "metadata": {
        "id": "rDQF1e1naWEc"
      },
      "outputs": [],
      "source": [
        "from youtube_transcript_api import YouTubeTranscriptApi\n",
        "\n",
        "\n",
        "transcript = YouTubeTranscriptApi.get_transcript(video_id)\n"
      ]
    },
    {
      "cell_type": "code",
      "execution_count": null,
      "metadata": {
        "colab": {
          "base_uri": "https://localhost:8080/"
        },
        "id": "YYkFzfGeFfmK",
        "outputId": "f09a6ed3-d3b7-4f5f-d609-983eb3c6bd60"
      },
      "outputs": [
        {
          "output_type": "execute_result",
          "data": {
            "text/plain": [
              "[{'text': 'In this lecture, we discuss PIN diodes and\\ncontrol circuits.',\n",
              "  'start': 28.49,\n",
              "  'duration': 10.92},\n",
              " {'text': 'So, a PIN diode, it contains an intrinsic\\nor lightly doped layer in between P and N',\n",
              "  'start': 39.41,\n",
              "  'duration': 14.74},\n",
              " {'text': 'layers, and that is why the name of this diode\\nis PIN.',\n",
              "  'start': 54.15,\n",
              "  'duration': 4.13},\n",
              " {'text': 'The addition of intrinsic region reduces the\\njunction capacitance since P and N regions',\n",
              "  'start': 58.28,\n",
              "  'duration': 14.949},\n",
              " {'text': 'are now further apart.', 'start': 73.229, 'duration': 3.861}]"
            ]
          },
          "metadata": {},
          "execution_count": 92
        }
      ],
      "source": [
        "transcript[0:5]"
      ]
    },
    {
      "cell_type": "code",
      "execution_count": null,
      "metadata": {
        "colab": {
          "base_uri": "https://localhost:8080/"
        },
        "id": "LX1dZZpAGTCx",
        "outputId": "7e260b46-e77d-42fd-9319-71fff26b3c39"
      },
      "outputs": [
        {
          "output_type": "stream",
          "name": "stdout",
          "text": [
            "8882\n"
          ]
        }
      ],
      "source": [
        "result=\" \"\n",
        "for i in transcript:\n",
        "    result +=' '+i['text']\n",
        "print(len(result))"
      ]
    },
    {
      "cell_type": "code",
      "execution_count": null,
      "metadata": {
        "colab": {
          "base_uri": "https://localhost:8080/"
        },
        "id": "6cED_RCwWlTJ",
        "outputId": "97e76918-f028-4203-bdf1-731d65568d3c"
      },
      "outputs": [
        {
          "output_type": "stream",
          "name": "stderr",
          "text": [
            "No model was supplied, defaulted to sshleifer/distilbart-cnn-12-6 and revision a4f8f3e (https://huggingface.co/sshleifer/distilbart-cnn-12-6).\n",
            "Using a pipeline without specifying a model name and revision in production is not recommended.\n"
          ]
        }
      ],
      "source": [
        "summarizer=pipeline('summarization')"
      ]
    },
    {
      "cell_type": "code",
      "execution_count": null,
      "metadata": {
        "colab": {
          "base_uri": "https://localhost:8080/"
        },
        "id": "Y-TX-SviGm9a",
        "outputId": "b133f56a-ccc3-4b91-9f98-72cabf98732d"
      },
      "outputs": [
        {
          "output_type": "stream",
          "name": "stdout",
          "text": [
            "[' PIN diodes contain an intrinsic or lightly doped layer in between P and N layers . The introduction of this intrinsic region makes forward conductivity of the diode a much more linear function of diode bias current . The addition of intrinsic region reduces the capacitance of the P-N region of a PIN diode .', \" A single pole single throwor SPST switch can be used as a switch, and the impedance of the device can be controlled by changing the device's bias . We will start our discussion with a single-pole-driven diode switch . This is also called 'SPST', Single Pole Single-pole Single-Device-Switch .\", ' P side of the diode is connected to the bias through an Rf choke . The purpose of this choke is to provide a high impedance for the signal and a DC . This inductor will be a short circuit . So, this choke will prevent flow of signal from the bias source . Signal will flow from the source towards the source or the load .', ' VL is the voltage when the diode is present, V naught would have been the voltage if the load was directly connected to the source . The insertion loss IL is defined as if the insertion loss is minus 20 log VL by VNaught . Once we substitute this, insertion loss becomes minus 20 lo .', ' We see that when the diode is in high-impedance state, the signal will flow from source to load; it will not go through it . Whereas, when a DC is short-circuited, the bias voltage is transferred to a diode . In the ideal case, all the signals will be reflected from here, and therefore, we have a switching action here .', ' Z d is now connected in parallel between the source and the load . For both switches we find that when both switches are reverse biased, at that time Zd is given by R r plus J omega L i minus 1 by 1 by Jomega C j, this comes from the equivalent circuit of the diode .', ' SPDT or single-pole double-throwtype switches, so this is a switch where we have 2 diodes . We have not shown any biasing circuitry here . We need to calculate by substituting the values of Zd at the design frequency for reverse and forward biased conditions .', ' In this case, the diodes are connected in parallel, and we are using lambda by 4 sections . We see that this type of phase-switch can also be used in designing phase-shifters . Let us see another way in which SPDT switch can be realized .', ' By switching on one set of diodes, we can bring a transmission line section of a given length between the input and output . For example, when these two dioes are made on, transmission line . section L1 is connected between input. and output. While when the upper two dodes are . made on L2 section L2 is connected . At that time lower two diods are kept on the open condition . And therefore, when the signal travels between. input and . output through first path, so a differential phase shift can be produced .']\n"
          ]
        }
      ],
      "source": [
        "num_iters=int(len(result)/1000)\n",
        "summarized_text=[]\n",
        "for i in range(0,num_iters+1):\n",
        "  start=i*1000\n",
        "  end=(i+1)*1000\n",
        "  out=summarizer(result[start:end])\n",
        "  out=out[0]\n",
        "  out=out['summary_text']\n",
        "  summarized_text.append(out)\n",
        "\n",
        "print(summarized_text)"
      ]
    },
    {
      "cell_type": "code",
      "execution_count": null,
      "metadata": {
        "colab": {
          "base_uri": "https://localhost:8080/"
        },
        "id": "_OqbUBo5HtRO",
        "outputId": "f7fde037-dc2d-4ac3-cb5c-2ce3eab3b7ff"
      },
      "outputs": [
        {
          "output_type": "execute_result",
          "data": {
            "text/plain": [
              "2849"
            ]
          },
          "metadata": {},
          "execution_count": 96
        }
      ],
      "source": [
        "len(str(summarized_text))"
      ]
    },
    {
      "cell_type": "code",
      "execution_count": null,
      "metadata": {
        "colab": {
          "base_uri": "https://localhost:8080/"
        },
        "id": "xBp4JiZrHw28",
        "outputId": "47607882-1faa-42c5-f6e1-25b1b42cce12"
      },
      "outputs": [
        {
          "output_type": "stream",
          "name": "stdout",
          "text": [
            "[' PIN diodes contain an intrinsic or lightly doped layer in between P and N layers . The introduction of this intrinsic region makes forward conductivity of the diode a much more linear function of diode bias current . The addition of intrinsic region reduces the capacitance of the P-N region of a PIN diode .', \" A single pole single throwor SPST switch can be used as a switch, and the impedance of the device can be controlled by changing the device's bias . We will start our discussion with a single-pole-driven diode switch . This is also called 'SPST', Single Pole Single-pole Single-Device-Switch .\", ' P side of the diode is connected to the bias through an Rf choke . The purpose of this choke is to provide a high impedance for the signal and a DC . This inductor will be a short circuit . So, this choke will prevent flow of signal from the bias source . Signal will flow from the source towards the source or the load .', ' VL is the voltage when the diode is present, V naught would have been the voltage if the load was directly connected to the source . The insertion loss IL is defined as if the insertion loss is minus 20 log VL by VNaught . Once we substitute this, insertion loss becomes minus 20 lo .', ' We see that when the diode is in high-impedance state, the signal will flow from source to load; it will not go through it . Whereas, when a DC is short-circuited, the bias voltage is transferred to a diode . In the ideal case, all the signals will be reflected from here, and therefore, we have a switching action here .', ' Z d is now connected in parallel between the source and the load . For both switches we find that when both switches are reverse biased, at that time Zd is given by R r plus J omega L i minus 1 by 1 by Jomega C j, this comes from the equivalent circuit of the diode .', ' SPDT or single-pole double-throwtype switches, so this is a switch where we have 2 diodes . We have not shown any biasing circuitry here . We need to calculate by substituting the values of Zd at the design frequency for reverse and forward biased conditions .', ' In this case, the diodes are connected in parallel, and we are using lambda by 4 sections . We see that this type of phase-switch can also be used in designing phase-shifters . Let us see another way in which SPDT switch can be realized .', ' By switching on one set of diodes, we can bring a transmission line section of a given length between the input and output . For example, when these two dioes are made on, transmission line . section L1 is connected between input. and output. While when the upper two dodes are . made on L2 section L2 is connected . At that time lower two diods are kept on the open condition . And therefore, when the signal travels between. input and . output through first path, so a differential phase shift can be produced .']\n"
          ]
        }
      ],
      "source": [
        "yt=str(summarized_text)\n",
        "print(yt)"
      ]
    },
    {
      "cell_type": "code",
      "execution_count": null,
      "metadata": {
        "colab": {
          "base_uri": "https://localhost:8080/",
          "height": 321
        },
        "id": "sEVHCYDIDIN6",
        "outputId": "d936d352-5f3e-4312-880e-6c0ec3336d87"
      },
      "outputs": [
        {
          "output_type": "execute_result",
          "data": {
            "text/plain": [
              "<IPython.lib.display.YouTubeVideo at 0x7d5a740b3ac0>"
            ],
            "text/html": [
              "\n",
              "        <iframe\n",
              "            width=\"400\"\n",
              "            height=\"300\"\n",
              "            src=\"https://www.youtube.com/embed/JlQB0yZw2as\"\n",
              "            frameborder=\"0\"\n",
              "            allowfullscreen\n",
              "            \n",
              "        ></iframe>\n",
              "        "
            ],
            "image/jpeg": "[encoded data removed]"
          },
          "metadata": {},
          "execution_count": 98
        }
      ],
      "source": [
        "from IPython.display import YouTubeVideo\n",
        "YouTubeVideo(video_id)"
      ]
    },
    {
      "cell_type": "code",
      "execution_count": null,
      "metadata": {
        "id": "e9tlWOOgH0-D"
      },
      "outputs": [],
      "source": [
        "import requests\n",
        "from bs4 import BeautifulSoup\n",
        "\n",
        "def get_page_content(url):\n",
        "    response = requests.get(url)\n",
        "    if response.status_code == 200:\n",
        "        return response.text\n",
        "    else:\n",
        "        print(f\"Failed to retrieve the page. Status code: {response.status_code}\")\n",
        "        return None\n",
        "\n",
        "def extract_text(html_content):\n",
        "    soup = BeautifulSoup(html_content, 'html.parser')\n",
        "    # Modify the 'find' and 'find_all' methods based on the HTML structure of the webpage\n",
        "    # to target the specific elements you want to extract.\n",
        "    important_elements = soup.find_all('p')  # Example: Extracting all paragraphs\n",
        "\n",
        "    extracted_text = \"\"\n",
        "    for element in important_elements:\n",
        "        extracted_text += element.get_text() + \"\\n\"\n",
        "\n",
        "    return extracted_text\n",
        "\n",
        "if __name__ == \"__main__\":\n",
        "    url = \"https://en.wikipedia.org/wiki/PIN_diode\"  # Replace with the URL of the webpage you want to scrape\n",
        "    page_content = get_page_content(url)\n",
        "\n",
        "    if page_content:\n",
        "        extracted_text = extract_text(page_content)\n",
        "        print(extracted_text)\n"
      ]
    },
    {
      "cell_type": "code",
      "source": [
        "from transformers import pipeline"
      ],
      "metadata": {
        "id": "dBi43ezjUtk_"
      },
      "execution_count": null,
      "outputs": []
    },
    {
      "cell_type": "code",
      "source": [
        "summarizer=pipeline('summarization')"
      ],
      "metadata": {
        "colab": {
          "base_uri": "https://localhost:8080/"
        },
        "id": "kPT2cHumU1rs",
        "outputId": "958c8045-286c-44bf-e8fb-1a5b8af9b699"
      },
      "execution_count": null,
      "outputs": [
        {
          "output_type": "stream",
          "name": "stderr",
          "text": [
            "No model was supplied, defaulted to sshleifer/distilbart-cnn-12-6 and revision a4f8f3e (https://huggingface.co/sshleifer/distilbart-cnn-12-6).\n",
            "Using a pipeline without specifying a model name and revision in production is not recommended.\n"
          ]
        }
      ]
    },
    {
      "cell_type": "code",
      "source": [
        "num_iters=int(len(extracted_text)/1000)\n",
        "summarized_text=[]\n",
        "for i in range(0,num_iters+1):\n",
        "  start=i*1000\n",
        "  end=(i+1)*1000\n",
        "  out=summarizer(extracted_text[start:end])\n",
        "  out=out[0]\n",
        "  out=out['summary_text']\n",
        "  summarized_text.append(out)\n",
        "\n",
        "print(summarized_text)"
      ],
      "metadata": {
        "colab": {
          "base_uri": "https://localhost:8080/"
        },
        "id": "Yjk7UbA_U-Yv",
        "outputId": "131acce9-b59e-4ba5-c790-dd766cdb2b7f"
      },
      "execution_count": null,
      "outputs": [
        {
          "output_type": "stream",
          "name": "stderr",
          "text": [
            "Your max_length is set to 142, but your input_length is only 46. Since this is a summarization task, where outputs shorter than the input are typically wanted, you might consider decreasing max_length manually, e.g. summarizer('...', max_length=23)\n"
          ]
        },
        {
          "output_type": "stream",
          "name": "stdout",
          "text": [
            "[' A PIN diode is a diode with a wide, undoped intrinsic semiconductor region . The wide intrinsic region makes the diode an inferior rectifier, but it makes it suitable for attenuators, fast switches, photodetectors, and high-voltage power electronics applications .', ' PIN diode obeys the standard diode equation for low-frequency signals . The P-I-N diode has a relatively large stored charge adrift in a thick intrinsic region . At higher frequencies, the diode looks like an almost perfect (very linear, even for large signals) resistor .', ' The time required to sweep the stored charge from a diode junction is its reverse recovery time . PIN diode, suitably biased, therefore acts as a variable resistor . The high-frequency resistance is inversely proportional to the DC bias current through the diode . The resistance may vary over a wide range (from 0.1 to 10 kΩ in some cases)', ' In a PIN diode the depletion region exists almost completely within the intrinsic region . This depletion region is much larger than in a PN diode and almost constant-size . This increases the volume where electron-hole pairs can be generated by an incident photon . The wide intrinsic region also means the diode will have a low capacitance when reverse-biased .', ' PIN diodes are useful as RF switches, attenuators, photodetectors, and phase shifters . Increasing the thickness of the intrinsic region increases the total stored charge, decreases the minimum RF frequency, and decreases the reverse-bias capacitance . PIN diode has a low capacitance, making it a good conductor of RF .', ' At 320 MHz, the capacitive reactance of an \"off\"-state discrete PIN diode might be 1 pF at 320 MHz . At 320 Mhz, the reactance is 497 ohms:\\xa0At 50 ohm system, the off-state attenuation is:\\xa0referior\\xa0to that of a series element in a 50-ohm system .', ' PIN diode can be used in some variable attenuator designs as amplitude modulators or output leveling circuits . PIN diodes might be used, for example, as the bridge and shunt resistors in a bridged-T . Another common approach is to use PIN diodes as terminations connected to the 0 degree and -90 degree ports of a quadrature hybrid .', ' PIN diodes are sometimes designed for use as input protection devices for high-frequency test probes and other circuits . If the input signal is small, the PIN diode has negligible impact, presenting only a small parasitic capacitance . Unlike a rectifier diode, it does not present a nonlinear resistance at RF frequencies .', ' PIN photodiode was invented by Jun-ichi Nishizawa and his colleagues in 1950 . PIN photodiodes are used in fibre optic network cards and switches . PIN diode is reverse-biased . Under reverse bias, the diode ordinarily does not conduct (save a small dark current or leakage)', ' The reverse-bias field sweeps the carriers out of the region, creating current . The same mechanism applies to the PIN structure, or p-i-n junction, of a solar cell . The advantage of using a PIN structure over conventional semiconductor p–n junction is better long-wavelength response of the former .', ' P-i-n photodiodes have even higher quantum efficiencies, but can only detect wavelengths below the bandgap of silicon, i.e. ~1100\\xa0nm . P-n can also detect ionizing radiation in case it is used as a semiconductor detector . CdTe cells use NIP structure, a variation of the PIN structure .', ' SFH203 and BPW34 are cheap general purpose PIN diodes in 5\\xa0mm clear plastic cases with bandwidths over 100\\xa0MHz . They are used in the microwave and millimeter waves range . They were used in a variety of cases with different bandwidths .']\n"
          ]
        }
      ]
    },
    {
      "cell_type": "code",
      "source": [
        "br=str(summarized_text)\n",
        "print(br)"
      ],
      "metadata": {
        "id": "thNnc4TWVAh0"
      },
      "execution_count": null,
      "outputs": []
    },
    {
      "cell_type": "code",
      "source": [
        "from sklearn.feature_extraction.text import TfidfVectorizer\n",
        "from sklearn.metrics.pairwise import cosine_similarity\n",
        "\n",
        "def calculate_similarity(youtube_text, browser_text):\n",
        "    # Create TF-IDF vectors\n",
        "    vectorizer = TfidfVectorizer()\n",
        "    vectors = vectorizer.fit_transform([youtube_text, browser_text])\n",
        "\n",
        "    # Calculate cosine similarity between the vectors\n",
        "    similarity = cosine_similarity(vectors[0], vectors[1])[0][0]\n",
        "\n",
        "    # Convert similarity to percentage (optional)\n",
        "    similarity_percentage = similarity * 100\n",
        "\n",
        "    return similarity_percentage\n",
        "\n",
        "\n",
        "youtube_text = yt\n",
        "browser_text = br\n",
        "\n",
        "similarity = calculate_similarity(youtube_text, browser_text)\n",
        "print(f\"Cosine Similarity Percentage: {similarity}%\")\n"
      ],
      "metadata": {
        "colab": {
          "base_uri": "https://localhost:8080/",
          "height": 211
        },
        "id": "stMlz9hTVRiw",
        "outputId": "a18bbcb9-0a3b-4ae9-be09-1ed6faa95dbc"
      },
      "execution_count": null,
      "outputs": [
        {
          "output_type": "error",
          "ename": "NameError",
          "evalue": "name 'yt' is not defined",
          "traceback": [
            "\u001b[0;31m---------------------------------------------------------------------------\u001b[0m",
            "\u001b[0;31mNameError\u001b[0m                                 Traceback (most recent call last)",
            "\u001b[0;32m<ipython-input-1-541bd9c2714c>\u001b[0m in \u001b[0;36m<cell line: 18>\u001b[0;34m()\u001b[0m\n\u001b[1;32m     16\u001b[0m \u001b[0;34m\u001b[0m\u001b[0m\n\u001b[1;32m     17\u001b[0m \u001b[0;34m\u001b[0m\u001b[0m\n\u001b[0;32m---> 18\u001b[0;31m \u001b[0myoutube_text\u001b[0m \u001b[0;34m=\u001b[0m \u001b[0myt\u001b[0m\u001b[0;34m\u001b[0m\u001b[0;34m\u001b[0m\u001b[0m\n\u001b[0m\u001b[1;32m     19\u001b[0m \u001b[0mbrowser_text\u001b[0m \u001b[0;34m=\u001b[0m \u001b[0mbr\u001b[0m\u001b[0;34m\u001b[0m\u001b[0;34m\u001b[0m\u001b[0m\n\u001b[1;32m     20\u001b[0m \u001b[0;34m\u001b[0m\u001b[0m\n",
            "\u001b[0;31mNameError\u001b[0m: name 'yt' is not defined"
          ]
        }
      ]
    },
    {
      "cell_type": "code",
      "source": [],
      "metadata": {
        "id": "I78B3pP84_cd"
      },
      "execution_count": null,
      "outputs": []
    },
    {
      "cell_type": "code",
      "execution_count": null,
      "metadata": {
        "id": "ChIUPPaI5hSB"
      },
      "outputs": [],
      "source": []
    }
  ],
  "metadata": {
    "colab": {
      "provenance": [],
      "authorship_tag": "ABX9TyPtyhPKONe75B8I5DQIpQTh",
      "include_colab_link": true
    },
    "kernelspec": {
      "display_name": "Python 3",
      "name": "python3"
    },
    "language_info": {
      "name": "python"
    }
  },
  "nbformat": 4,
  "nbformat_minor": 0
}